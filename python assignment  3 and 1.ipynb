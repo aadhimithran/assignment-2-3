{
 "cells": [
  {
   "cell_type": "code",
   "execution_count": 11,
   "id": "2ad1ea5f",
   "metadata": {},
   "outputs": [
    {
     "name": "stdout",
     "output_type": "stream",
     "text": [
      "Enter the password:HOPE@123\n",
      "your password is correct\n"
     ]
    }
   ],
   "source": [
    "password=str(input(\"Enter the password:\"))\n",
    "if password =='HOPE@123':\n",
    "    print(\"your password is correct\")\n",
    "else:\n",
    "    print(\"wrong\")\n",
    "\n"
   ]
  },
  {
   "cell_type": "code",
   "execution_count": 1,
   "id": "d14b039b",
   "metadata": {},
   "outputs": [
    {
     "name": "stdout",
     "output_type": "stream",
     "text": [
      "value=10\n",
      "correct\n"
     ]
    }
   ],
   "source": [
    "value=int(input(\"value=\"))\n",
    "if value ==10:\n",
    "    print(\"correct\")\n",
    "else:\n",
    "    print(\"wrong\")"
   ]
  },
  {
   "cell_type": "code",
   "execution_count": 4,
   "id": "437eac10",
   "metadata": {},
   "outputs": [
    {
     "name": "stdout",
     "output_type": "stream",
     "text": [
      "enter any number:2\n",
      "number is positive\n"
     ]
    }
   ],
   "source": [
    "number=int(input(\"enter any number:\"))\n",
    "if number>1:\n",
    "    print(\"number is positive\")\n",
    "else:\n",
    "    print(\"num is wrong\")"
   ]
  },
  {
   "cell_type": "code",
   "execution_count": 5,
   "id": "d61e4ac1",
   "metadata": {},
   "outputs": [
    {
     "name": "stdout",
     "output_type": "stream",
     "text": [
      "enter your number:22\n",
      "number is not  divisible by 5\n"
     ]
    }
   ],
   "source": [
    "number =int(input(\"enter your number:\"))\n",
    "if number%5==1:\n",
    "    print(\"number is divisible by 5\")\n",
    "else:\n",
    "    print(\"number is not  divisible by 5\")"
   ]
  },
  {
   "cell_type": "code",
   "execution_count": 8,
   "id": "25d37128",
   "metadata": {},
   "outputs": [
    {
     "name": "stdout",
     "output_type": "stream",
     "text": [
      "ASSIGNMENT 1\n",
      "add= 77\n"
     ]
    }
   ],
   "source": [
    "print (\"ASSIGNMENT 1\")\n",
    "a = 43\n",
    "b= 34\n",
    "add=a+b\n",
    "print(\"add=\",add)"
   ]
  },
  {
   "cell_type": "code",
   "execution_count": 7,
   "id": "3823b0f8",
   "metadata": {},
   "outputs": [
    {
     "name": "stdout",
     "output_type": "stream",
     "text": [
      "sub= 9\n"
     ]
    }
   ],
   "source": [
    "a = 43\n",
    "b= 34\n",
    "sub=a-b\n",
    "print(\"sub=\",sub)"
   ]
  },
  {
   "cell_type": "code",
   "execution_count": 9,
   "id": "f24bf03a",
   "metadata": {},
   "outputs": [
    {
     "name": "stdout",
     "output_type": "stream",
     "text": [
      "mul= 6111\n"
     ]
    }
   ],
   "source": [
    "a=63\n",
    "b=97\n",
    "mul=a*b\n",
    "print(\"mul=\",mul)"
   ]
  },
  {
   "cell_type": "code",
   "execution_count": 12,
   "id": "9be05fe4",
   "metadata": {},
   "outputs": [
    {
     "name": "stdout",
     "output_type": "stream",
     "text": [
      "floatdiv= 2.4516129032258065\n"
     ]
    }
   ],
   "source": [
    "a=76\n",
    "b=31\n",
    "floatdiv = a/b\n",
    "print(\"floatdiv=\",floatdiv)"
   ]
  },
  {
   "cell_type": "code",
   "execution_count": 15,
   "id": "c5bb7bb5",
   "metadata": {},
   "outputs": [
    {
     "name": "stdout",
     "output_type": "stream",
     "text": [
      "module= 14\n"
     ]
    }
   ],
   "source": [
    "a=76\n",
    "b=31\n",
    "module = a%b\n",
    "print(\"module=\",module)"
   ]
  },
  {
   "cell_type": "code",
   "execution_count": 17,
   "id": "ea9a08d6",
   "metadata": {},
   "outputs": [
    {
     "name": "stdout",
     "output_type": "stream",
     "text": [
      "power= 256\n"
     ]
    }
   ],
   "source": [
    "a=4\n",
    "b=4\n",
    "power=4**4\n",
    "print(\"power=\",power)"
   ]
  },
  {
   "cell_type": "code",
   "execution_count": 18,
   "id": "efba4b60",
   "metadata": {},
   "outputs": [
    {
     "name": "stdout",
     "output_type": "stream",
     "text": [
      "HOPE AI\n"
     ]
    }
   ],
   "source": [
    "print(\"HOPE AI\")"
   ]
  },
  {
   "cell_type": "code",
   "execution_count": 2,
   "id": "951b249b",
   "metadata": {},
   "outputs": [
    {
     "name": "stdout",
     "output_type": "stream",
     "text": [
      "Enter your namehope institute\n",
      "Enter your institute name?= hope institute\n"
     ]
    }
   ],
   "source": [
    "name = str(input(\"Enter your name\"))\n",
    "print(\"Enter your institute name?=\",name)"
   ]
  },
  {
   "cell_type": "code",
   "execution_count": 3,
   "id": "3cc15bd1",
   "metadata": {},
   "outputs": [
    {
     "name": "stdout",
     "output_type": "stream",
     "text": [
      "enter your nameramya\n",
      "enter your age27\n",
      "enter your schoolNational school\n",
      "enter your degreeMBA\n"
     ]
    }
   ],
   "source": [
    "name = str(input(\"enter your name\"))\n",
    "age=int(input(\"enter your age\"))\n",
    "school=str(input(\"enter your school\"))\n",
    "degree=str(input(\"enter your degree\"))"
   ]
  },
  {
   "cell_type": "code",
   "execution_count": null,
   "id": "63ab4299",
   "metadata": {},
   "outputs": [],
   "source": []
  },
  {
   "cell_type": "code",
   "execution_count": null,
   "id": "375465a1",
   "metadata": {},
   "outputs": [],
   "source": []
  }
 ],
 "metadata": {
  "kernelspec": {
   "display_name": "Python 3 (ipykernel)",
   "language": "python",
   "name": "python3"
  },
  "language_info": {
   "codemirror_mode": {
    "name": "ipython",
    "version": 3
   },
   "file_extension": ".py",
   "mimetype": "text/x-python",
   "name": "python",
   "nbconvert_exporter": "python",
   "pygments_lexer": "ipython3",
   "version": "3.11.5"
  }
 },
 "nbformat": 4,
 "nbformat_minor": 5
}
